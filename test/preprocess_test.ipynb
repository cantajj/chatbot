{
 "cells": [
  {
   "cell_type": "code",
   "execution_count": 7,
   "id": "d94830e2",
   "metadata": {},
   "outputs": [
    {
     "ename": "ImportError",
     "evalue": "cannot import name 'Preprocess' from 'utils.Preprocess' (C:\\chatbot\\utils\\Preprocess.py)",
     "output_type": "error",
     "traceback": [
      "\u001b[1;31m---------------------------------------------------------------------------\u001b[0m",
      "\u001b[1;31mImportError\u001b[0m                               Traceback (most recent call last)",
      "Input \u001b[1;32mIn [7]\u001b[0m, in \u001b[0;36m<cell line: 9>\u001b[1;34m()\u001b[0m\n\u001b[0;32m      5\u001b[0m \u001b[38;5;28;01mimport\u001b[39;00m \u001b[38;5;21;01msys\u001b[39;00m\n\u001b[0;32m      6\u001b[0m sys\u001b[38;5;241m.\u001b[39mpath\u001b[38;5;241m.\u001b[39mappend(\u001b[38;5;124m'\u001b[39m\u001b[38;5;124mC:/chatbot\u001b[39m\u001b[38;5;124m'\u001b[39m)\n\u001b[1;32m----> 9\u001b[0m \u001b[38;5;28;01mfrom\u001b[39;00m \u001b[38;5;21;01mutils\u001b[39;00m\u001b[38;5;21;01m.\u001b[39;00m\u001b[38;5;21;01mPreprocess\u001b[39;00m \u001b[38;5;28;01mimport\u001b[39;00m Preprocess\n",
      "\u001b[1;31mImportError\u001b[0m: cannot import name 'Preprocess' from 'utils.Preprocess' (C:\\chatbot\\utils\\Preprocess.py)"
     ]
    }
   ],
   "source": [
    "#####################################################\n",
    "# <실습7>  챗봇 전처리 모듈 TEST\n",
    "#          from utils.Preprocess import Preprocess\n",
    "#####################################################\n",
    "import sys\n",
    "sys.path.append('C:/chatbot')\n",
    "\n",
    "\n",
    "from utils.Preprocess import Preprocess"
   ]
  },
  {
   "cell_type": "code",
   "execution_count": 8,
   "id": "c2ea6f77",
   "metadata": {},
   "outputs": [
    {
     "ename": "NameError",
     "evalue": "name 'Preprocess' is not defined",
     "output_type": "error",
     "traceback": [
      "\u001b[1;31m---------------------------------------------------------------------------\u001b[0m",
      "\u001b[1;31mNameError\u001b[0m                                 Traceback (most recent call last)",
      "Input \u001b[1;32mIn [8]\u001b[0m, in \u001b[0;36m<cell line: 5>\u001b[1;34m()\u001b[0m\n\u001b[0;32m      2\u001b[0m sent \u001b[38;5;241m=\u001b[39m \u001b[38;5;124m'\u001b[39m\u001b[38;5;124m내일 오전 10시에 탕수육 주문하고 싶어.\u001b[39m\u001b[38;5;124m'\u001b[39m\n\u001b[0;32m      4\u001b[0m \u001b[38;5;66;03m# 전처리 객체 생성\u001b[39;00m\n\u001b[1;32m----> 5\u001b[0m p \u001b[38;5;241m=\u001b[39m \u001b[43mPreprocess\u001b[49m()   \u001b[38;5;66;03m# default : userdic=None\u001b[39;00m\n\u001b[0;32m      6\u001b[0m \u001b[38;5;66;03m# p = Preprocess(userdic='../utils/user_dic.tsv')   # default : userdic=None\u001b[39;00m\n\u001b[0;32m      7\u001b[0m \n\u001b[0;32m      8\u001b[0m \u001b[38;5;66;03m# 품사 분석기 실행\u001b[39;00m\n\u001b[0;32m      9\u001b[0m pos \u001b[38;5;241m=\u001b[39m p\u001b[38;5;241m.\u001b[39mpos(sent)  \n",
      "\u001b[1;31mNameError\u001b[0m: name 'Preprocess' is not defined"
     ]
    }
   ],
   "source": [
    "# 테스트 문장\n",
    "sent = '내일 오전 10시에 탕수육 주문하고 싶어.'\n",
    "\n",
    "# 전처리 객체 생성\n",
    "p = Preprocess()   # default : userdic=None\n",
    "# p = Preprocess(userdic='../utils/user_dic.tsv')   # default : userdic=None\n",
    "\n",
    "# 품사 분석기 실행\n",
    "pos = p.pos(sent)  \n",
    "\n",
    "# 품사태그와 같이 키워드 출력\n",
    "ret = p.get_keywords(pos, without_tag=False)\n",
    "print(ret)\n",
    "\n",
    "# 품사태그 없이 키워드 출력\n",
    "ret = p.get_keywords(pos, without_tag=True)\n",
    "print(ret)"
   ]
  },
  {
   "cell_type": "code",
   "execution_count": null,
   "id": "83c578c3",
   "metadata": {},
   "outputs": [],
   "source": []
  },
  {
   "cell_type": "code",
   "execution_count": null,
   "id": "7eeab1fb",
   "metadata": {},
   "outputs": [],
   "source": []
  },
  {
   "cell_type": "code",
   "execution_count": null,
   "id": "92ba525d",
   "metadata": {},
   "outputs": [],
   "source": []
  },
  {
   "cell_type": "code",
   "execution_count": null,
   "id": "32f9082d",
   "metadata": {},
   "outputs": [],
   "source": []
  }
 ],
 "metadata": {
  "kernelspec": {
   "display_name": "Python 3 (ipykernel)",
   "language": "python",
   "name": "python3"
  },
  "language_info": {
   "codemirror_mode": {
    "name": "ipython",
    "version": 3
   },
   "file_extension": ".py",
   "mimetype": "text/x-python",
   "name": "python",
   "nbconvert_exporter": "python",
   "pygments_lexer": "ipython3",
   "version": "3.8.13"
  }
 },
 "nbformat": 4,
 "nbformat_minor": 5
}
