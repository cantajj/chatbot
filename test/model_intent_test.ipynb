{
 "cells": [
  {
   "cell_type": "code",
   "execution_count": 1,
   "id": "e3683e6b",
   "metadata": {},
   "outputs": [],
   "source": [
    "################################################################\n",
    "# <실습14> IntentModel 모듈 사용 예제 (Test)\n",
    "# - 단어 사전과 사용자 사전 읽어서 Intent 예측\n",
    "#################################################################"
   ]
  },
  {
   "cell_type": "code",
   "execution_count": 2,
   "id": "7d5e951d",
   "metadata": {},
   "outputs": [],
   "source": [
    "import sys\n",
    "sys.path.append('C:/chatbot')\n",
    "\n",
    "from utils.Preprocess import Preprocess\n",
    "from models.intent.IntentModel import IntentModel\n",
    "\n",
    "p = Preprocess(word2index_dic='../train_tools/dict/chatbot_dict.bin',\n",
    "               userdic='../utils/user_dic.tsv')"
   ]
  },
  {
   "attachments": {
    "image.png": {
     "image/png": "[encoded data removed]"
    }
   },
   "cell_type": "markdown",
   "id": "66ec5b2d",
   "metadata": {},
   "source": [
    "![image.png](attachment:image.png)"
   ]
  },
  {
   "cell_type": "code",
   "execution_count": 3,
   "id": "11b9277b",
   "metadata": {},
   "outputs": [],
   "source": [
    "# labels = {0: \"인사\", 1: \"욕설\", 2: \"주문\", 3: \"예약\", 4: \"기타\"}\n",
    "intent = IntentModel(model_name='../models/intent/intent_model.h5', preprocess=p)"
   ]
  },
  {
   "cell_type": "code",
   "execution_count": 4,
   "id": "b36426da",
   "metadata": {},
   "outputs": [],
   "source": [
    "query = \"오늘 탕수육 주문 가능한가요?\""
   ]
  },
  {
   "cell_type": "code",
   "execution_count": 5,
   "id": "9633daf1",
   "metadata": {},
   "outputs": [
    {
     "data": {
      "text/plain": [
       "2"
      ]
     },
     "execution_count": 5,
     "metadata": {},
     "output_type": "execute_result"
    }
   ],
   "source": [
    "predict = intent.predict_class(query)\n",
    "predict"
   ]
  },
  {
   "cell_type": "code",
   "execution_count": 7,
   "id": "11a92caf",
   "metadata": {},
   "outputs": [
    {
     "data": {
      "text/plain": [
       "{0: '인사', 1: '욕설', 2: '주문', 3: '예약', 4: '기타'}"
      ]
     },
     "execution_count": 7,
     "metadata": {},
     "output_type": "execute_result"
    }
   ],
   "source": [
    "intent.labels"
   ]
  },
  {
   "cell_type": "code",
   "execution_count": 9,
   "id": "e41cf803",
   "metadata": {},
   "outputs": [
    {
     "data": {
      "text/plain": [
       "'주문'"
      ]
     },
     "execution_count": 9,
     "metadata": {},
     "output_type": "execute_result"
    }
   ],
   "source": [
    "predict_label = intent.labels[predict]\n",
    "predict_label"
   ]
  },
  {
   "cell_type": "code",
   "execution_count": 10,
   "id": "5c0609a3",
   "metadata": {},
   "outputs": [
    {
     "name": "stdout",
     "output_type": "stream",
     "text": [
      "오늘 탕수육 주문 가능한가요?\n",
      "의도 예측 클래스 :  2\n",
      "의도 예측 레이블 :  주문\n"
     ]
    }
   ],
   "source": [
    "print(query)\n",
    "print(\"의도 예측 클래스 : \", predict)\n",
    "print(\"의도 예측 레이블 : \", predict_label)"
   ]
  },
  {
   "cell_type": "code",
   "execution_count": 11,
   "id": "b8a78439",
   "metadata": {},
   "outputs": [
    {
     "name": "stdout",
     "output_type": "stream",
     "text": [
      "안녕하세요.\n",
      "의도 예측 클래스 :  0\n",
      "의도 예측 레이블 :  인사\n"
     ]
    }
   ],
   "source": [
    "# 다른 질문을 Intent 파악\n",
    "query = \"안녕하세요.\"\n",
    "predict = intent.predict_class(query)\n",
    "predict_label = intent.labels[predict]\n",
    "print(query)\n",
    "print(\"의도 예측 클래스 : \", predict)\n",
    "print(\"의도 예측 레이블 : \", predict_label)"
   ]
  },
  {
   "cell_type": "code",
   "execution_count": 12,
   "id": "c80f7c4b",
   "metadata": {},
   "outputs": [
    {
     "name": "stdout",
     "output_type": "stream",
     "text": [
      "2월 16일 저녁 7시에 4명 식사 예약 가능한가요?\n",
      "의도 예측 클래스 :  3\n",
      "의도 예측 레이블 :  예약\n"
     ]
    }
   ],
   "source": [
    "# 다른 질문을 Intent 파악\n",
    "query = \"2월 16일 저녁 7시에 4명 식사 예약 가능한가요?\"\n",
    "predict = intent.predict_class(query)\n",
    "predict_label = intent.labels[predict]\n",
    "print(query)\n",
    "print(\"의도 예측 클래스 : \", predict)\n",
    "print(\"의도 예측 레이블 : \", predict_label)"
   ]
  },
  {
   "cell_type": "code",
   "execution_count": 13,
   "id": "b012cbca",
   "metadata": {},
   "outputs": [
    {
     "name": "stdout",
     "output_type": "stream",
     "text": [
      "가락지빵 언제부터 가능한지요?\n",
      "의도 예측 클래스 :  2\n",
      "의도 예측 레이블 :  주문\n"
     ]
    }
   ],
   "source": [
    "# 다른 질문을 Intent 파악\n",
    "query = \"가락지빵 언제부터 가능한지요?\"\n",
    "predict = intent.predict_class(query)\n",
    "predict_label = intent.labels[predict]\n",
    "print(query)\n",
    "print(\"의도 예측 클래스 : \", predict)\n",
    "print(\"의도 예측 레이블 : \", predict_label)"
   ]
  },
  {
   "cell_type": "code",
   "execution_count": 14,
   "id": "a9af739f",
   "metadata": {},
   "outputs": [
    {
     "name": "stdout",
     "output_type": "stream",
     "text": [
      "아 짜증나\n",
      "의도 예측 클래스 :  1\n",
      "의도 예측 레이블 :  욕설\n"
     ]
    }
   ],
   "source": [
    "# 다른 질문을 Intent 파악\n",
    "query = \"아 짜증나\"\n",
    "predict = intent.predict_class(query)\n",
    "predict_label = intent.labels[predict]\n",
    "print(query)\n",
    "print(\"의도 예측 클래스 : \", predict)\n",
    "print(\"의도 예측 레이블 : \", predict_label)"
   ]
  },
  {
   "cell_type": "code",
   "execution_count": null,
   "id": "83f8752e",
   "metadata": {},
   "outputs": [],
   "source": []
  }
 ],
 "metadata": {
  "kernelspec": {
   "display_name": "Python 3 (ipykernel)",
   "language": "python",
   "name": "python3"
  },
  "language_info": {
   "codemirror_mode": {
    "name": "ipython",
    "version": 3
   },
   "file_extension": ".py",
   "mimetype": "text/x-python",
   "name": "python",
   "nbconvert_exporter": "python",
   "pygments_lexer": "ipython3",
   "version": "3.8.13"
  }
 },
 "nbformat": 4,
 "nbformat_minor": 5
}
