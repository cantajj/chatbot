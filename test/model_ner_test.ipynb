{
 "cells": [
  {
   "cell_type": "code",
   "execution_count": 1,
   "id": "8dd5e34e",
   "metadata": {},
   "outputs": [
    {
     "name": "stdout",
     "output_type": "stream",
     "text": [
      "[('오늘', 'B_DT'), ('오전', 'B_DT'), ('13시', 'B_DT'), ('2분', 'B_DT'), ('탕수육', 'B_FOOD'), ('주문', 'O'), ('하', 'O'), ('싶', 'O')]\n",
      "['B_DT', 'B_DT', 'B_DT', 'B_DT', 'B_FOOD']\n"
     ]
    }
   ],
   "source": [
    "################################################\n",
    "# <실습 17> 개체명(NER) 인식 모듈 테스트\n",
    "################################################\n",
    "import sys\n",
    "sys.path.append('c:/chatbot')\n",
    "\n",
    "from utils.Preprocess import Preprocess\n",
    "from models.ner.NerModel import NerModel\n",
    "\n",
    "p = Preprocess(word2index_dic='../train_tools/dict/chatbot_dict.bin',\n",
    "               userdic='../utils/user_dic.tsv')\n",
    "\n",
    "ner = NerModel(model_name='../models/ner/ner_model.h5', preprocess=p)\n",
    "query = '오늘 오전 13시 2분에 탕수육 주문 하고 싶어요'\n",
    "predicts = ner.predict(query)\n",
    "tags = ner.predict_tags(query)\n",
    "print(predicts)\n",
    "print(tags)"
   ]
  },
  {
   "cell_type": "code",
   "execution_count": null,
   "id": "8f4aab8e",
   "metadata": {},
   "outputs": [],
   "source": []
  }
 ],
 "metadata": {
  "kernelspec": {
   "display_name": "Python 3 (ipykernel)",
   "language": "python",
   "name": "python3"
  },
  "language_info": {
   "codemirror_mode": {
    "name": "ipython",
    "version": 3
   },
   "file_extension": ".py",
   "mimetype": "text/x-python",
   "name": "python",
   "nbconvert_exporter": "python",
   "pygments_lexer": "ipython3",
   "version": "3.8.13"
  }
 },
 "nbformat": 4,
 "nbformat_minor": 5
}
