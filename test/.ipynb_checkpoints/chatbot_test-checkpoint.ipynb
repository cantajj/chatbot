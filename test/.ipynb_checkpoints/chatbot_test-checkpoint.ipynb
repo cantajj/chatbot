{
 "cells": [
  {
   "cell_type": "code",
   "execution_count": 2,
   "id": "ae5fbf9c",
   "metadata": {},
   "outputs": [],
   "source": [
    "##########################################################\n",
    "# <실습20> 챗봇 엔진 동작\n",
    "##########################################################\n",
    "import sys\n",
    "sys.path.append('C:/chatbot')\n",
    "\n",
    "from config.DatabaseConfig import *\n",
    "from utils.Database import Database\n",
    "from utils.Preprocess import Preprocess\n",
    "\n",
    "# 전처리 객체 생성\n",
    "p = Preprocess(word2index_dic='../train_tools/dict/chatbot_dict.bin',\n",
    "               userdic='../utils/user_dic.tsv')"
   ]
  },
  {
   "cell_type": "code",
   "execution_count": 3,
   "id": "8ac753ee",
   "metadata": {},
   "outputs": [
    {
     "name": "stdout",
     "output_type": "stream",
     "text": [
      "chatbot 연결 시작\n",
      "DB 연결 성공!!!\n"
     ]
    }
   ],
   "source": [
    "# 질문/답변 학습 DB 연결 객체 생성\n",
    "db = Database(\n",
    "    host=DB_HOST, \n",
    "    user=DB_USER,\n",
    "    password=DB_PASSWORD,\n",
    "    db_name=DB_NAME\n",
    ")\n",
    "db.connect()"
   ]
  },
  {
   "cell_type": "code",
   "execution_count": 19,
   "id": "be1df1b3",
   "metadata": {},
   "outputs": [],
   "source": [
    "# 원문\n",
    "# query = \"오전에 탕수육 10개 주문합니다\"\n",
    "# query = \"화자의 질문 의도를 파악합니다.\"\n",
    "# query = \"안녕하세요\"\n",
    "query = \"8시까지 자장면 2그릇 주문할게요\"\n",
    "\n",
    "# Intent(의도) 파악\n",
    "from models.intent.IntentModel import IntentModel\n",
    "intent = IntentModel(model_name='../models/intent/intent_model.h5', preprocess=p)"
   ]
  },
  {
   "cell_type": "code",
   "execution_count": 20,
   "id": "325cee0c",
   "metadata": {},
   "outputs": [
    {
     "data": {
      "text/plain": [
       "2"
      ]
     },
     "execution_count": 20,
     "metadata": {},
     "output_type": "execute_result"
    }
   ],
   "source": [
    "predict = intent.predict_class(query)\n",
    "predict"
   ]
  },
  {
   "cell_type": "code",
   "execution_count": 21,
   "id": "5952113e",
   "metadata": {},
   "outputs": [
    {
     "data": {
      "text/plain": [
       "'주문'"
      ]
     },
     "execution_count": 21,
     "metadata": {},
     "output_type": "execute_result"
    }
   ],
   "source": [
    "intent_name = intent.labels[predict]\n",
    "intent_name"
   ]
  },
  {
   "cell_type": "code",
   "execution_count": 22,
   "id": "855356ba",
   "metadata": {},
   "outputs": [
    {
     "data": {
      "text/plain": [
       "[('8시', 'B_DT'), ('자장면', 'B_FOOD'), ('2', 'O'), ('그릇', 'O'), ('주문', 'O')]"
      ]
     },
     "execution_count": 22,
     "metadata": {},
     "output_type": "execute_result"
    }
   ],
   "source": [
    "### 개체명 인식\n",
    "from models.ner.NerModel import NerModel\n",
    "ner = NerModel(model_name='../models/ner/ner_model.h5', preprocess=p)\n",
    "predicts = ner.predict(query)\n",
    "predicts"
   ]
  },
  {
   "cell_type": "code",
   "execution_count": 23,
   "id": "7724aa35",
   "metadata": {},
   "outputs": [
    {
     "data": {
      "text/plain": [
       "['B_DT', 'B_FOOD']"
      ]
     },
     "execution_count": 23,
     "metadata": {},
     "output_type": "execute_result"
    }
   ],
   "source": [
    "ner_tags = ner.predict_tags(query)\n",
    "ner_tags"
   ]
  },
  {
   "cell_type": "code",
   "execution_count": 24,
   "id": "09c0f980",
   "metadata": {},
   "outputs": [
    {
     "name": "stdout",
     "output_type": "stream",
     "text": [
      "질문 :  8시까지 자장면 2그릇 주문할게요\n",
      "================================================================================\n",
      "의도 파악 :  주문\n",
      "개체명 인식 :  [('8시', 'B_DT'), ('자장면', 'B_FOOD'), ('2', 'O'), ('그릇', 'O'), ('주문', 'O')]\n",
      "답변 검색에 필요한 NER 태그 :  ['B_DT', 'B_FOOD']\n",
      "================================================================================\n"
     ]
    }
   ],
   "source": [
    "print(\"질문 : \", query)\n",
    "print(\"=\" * 80)\n",
    "print(\"의도 파악 : \", intent_name)\n",
    "print(\"개체명 인식 : \", predicts)\n",
    "print(\"답변 검색에 필요한 NER 태그 : \", ner_tags)\n",
    "print(\"=\" * 80)"
   ]
  },
  {
   "cell_type": "code",
   "execution_count": 25,
   "id": "9f10347a",
   "metadata": {},
   "outputs": [
    {
     "name": "stdout",
     "output_type": "stream",
     "text": [
      "============== Database.py ===================\n",
      "## Database.py의 select_one함수, sql=\n",
      "============== FindAnswer.py ===================\n",
      "** intent_name = 주문\n",
      "** ner_tags =  ['B_DT', 'B_FOOD']\n",
      "** sql =  SELECT * FROM chatbot_train_data WHERE intent=\"주문\" AND ( NER LIKE '%B_DT%' or  NER LIKE '%B_FOOD%' ) order by rand() limit 1\n",
      "** answer = {'id': 4, 'intent': '주문', 'ner': 'B_FOOD', 'query': '{B_FOOD} 주문할게요', 'answer': '{B_FOOD} 주문 처리 감사!!', 'answer_image': None}\n",
      "answer= {'id': 4, 'intent': '주문', 'ner': 'B_FOOD', 'query': '{B_FOOD} 주문할게요', 'answer': '{B_FOOD} 주문 처리 감사!!', 'answer_image': None}\n",
      "답변 :  자장면 주문 처리 감사!!\n",
      "DB가 닫혔습니다.\n"
     ]
    }
   ],
   "source": [
    "## DB에서 답변 검색\n",
    "from utils.FindAnswer import FindAnswer\n",
    "\n",
    "try:\n",
    "    f = FindAnswer(db)\n",
    "    answer_text, answer_image = f.search(intent_name, ner_tags)\n",
    "    answer = f.tag_to_word(predicts, answer_text)\n",
    "except:\n",
    "    answer = '죄송합니다. 무슨 말인지 모르겠어요~'\n",
    "\n",
    "print(\"답변 : \", answer)\n",
    "\n",
    "db.close()"
   ]
  },
  {
   "cell_type": "code",
   "execution_count": null,
   "id": "abc6e02d",
   "metadata": {},
   "outputs": [],
   "source": []
  },
  {
   "cell_type": "code",
   "execution_count": null,
   "id": "27db71d9",
   "metadata": {},
   "outputs": [],
   "source": []
  },
  {
   "cell_type": "code",
   "execution_count": null,
   "id": "8f9ef975",
   "metadata": {},
   "outputs": [],
   "source": []
  },
  {
   "cell_type": "code",
   "execution_count": null,
   "id": "9220255b",
   "metadata": {},
   "outputs": [],
   "source": []
  },
  {
   "cell_type": "code",
   "execution_count": null,
   "id": "71a43853",
   "metadata": {},
   "outputs": [],
   "source": []
  },
  {
   "cell_type": "code",
   "execution_count": null,
   "id": "5188dba8",
   "metadata": {},
   "outputs": [],
   "source": []
  }
 ],
 "metadata": {
  "kernelspec": {
   "display_name": "Python 3 (ipykernel)",
   "language": "python",
   "name": "python3"
  },
  "language_info": {
   "codemirror_mode": {
    "name": "ipython",
    "version": 3
   },
   "file_extension": ".py",
   "mimetype": "text/x-python",
   "name": "python",
   "nbconvert_exporter": "python",
   "pygments_lexer": "ipython3",
   "version": "3.8.13"
  }
 },
 "nbformat": 4,
 "nbformat_minor": 5
}
