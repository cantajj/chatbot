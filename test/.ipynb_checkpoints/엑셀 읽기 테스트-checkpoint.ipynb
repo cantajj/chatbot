{
 "cells": [
  {
   "cell_type": "code",
   "execution_count": 1,
   "id": "2cb765ac",
   "metadata": {},
   "outputs": [
    {
     "name": "stdout",
     "output_type": "stream",
     "text": [
      "(<Cell 'Sheet1'.A2>, <Cell 'Sheet1'.B2>, <Cell 'Sheet1'.C2>, <Cell 'Sheet1'.D2>, <Cell 'Sheet1'.E2>)\n",
      "인사|None|안녕하세요|네 안녕하세요 :D\n",
      "반갑습니다. 저는 챗봇입니다.|네 안녕하세요 :D\n",
      "반갑습니다. 저는 챗봇입니다.|https://i.imgur.com/UluUFMp.jpg\n",
      "--------------------------------------------------------------------------------\n",
      "(<Cell 'Sheet1'.A3>, <Cell 'Sheet1'.B3>, <Cell 'Sheet1'.C3>, <Cell 'Sheet1'.D3>, <Cell 'Sheet1'.E3>)\n",
      "인사|None|반가워요|네 안녕하세요 :D\n",
      "반갑습니다. 저는 챗봇입니다.|네 안녕하세요 :D\n",
      "반갑습니다. 저는 챗봇입니다.|https://i.imgur.com/UluUFMp.jpg\n",
      "--------------------------------------------------------------------------------\n",
      "(<Cell 'Sheet1'.A4>, <Cell 'Sheet1'.B4>, <Cell 'Sheet1'.C4>, <Cell 'Sheet1'.D4>, <Cell 'Sheet1'.E4>)\n",
      "주문|B_FOOD|{B_FOOD} 주문할게요|{B_FOOD} 주문 처리 완료되었습니다. \n",
      "주문해주셔서 감사합니다.|{B_FOOD} 주문 처리 완료되었습니다. \n",
      "주문해주셔서 감사합니다.|None\n",
      "--------------------------------------------------------------------------------\n",
      "(<Cell 'Sheet1'.A5>, <Cell 'Sheet1'.B5>, <Cell 'Sheet1'.C5>, <Cell 'Sheet1'.D5>, <Cell 'Sheet1'.E5>)\n",
      "주문|B_FOOD|{B_FOOD} 주문할게요|{B_FOOD} 주문 처리 감사!!|{B_FOOD} 주문 처리 감사!!|None\n",
      "--------------------------------------------------------------------------------\n",
      "(<Cell 'Sheet1'.A6>, <Cell 'Sheet1'.B6>, <Cell 'Sheet1'.C6>, <Cell 'Sheet1'.D6>, <Cell 'Sheet1'.E6>)\n",
      "예약|B_DT,B_TI|{B_DT} 예약|{B_DT}에 예약 접수 되었습니다.|{B_DT}에 예약 접수 되었습니다.|None\n",
      "--------------------------------------------------------------------------------\n",
      "(<Cell 'Sheet1'.A7>, <Cell 'Sheet1'.B7>, <Cell 'Sheet1'.C7>, <Cell 'Sheet1'.D7>, <Cell 'Sheet1'.E7>)\n",
      "욕설|None|None|욕하면 나빠요 ㅠ|욕하면 나빠요 ㅠ|None\n",
      "--------------------------------------------------------------------------------\n"
     ]
    }
   ],
   "source": [
    "#####################################################\n",
    "# 엑셀 읽기 테스트\n",
    "#####################################################\n",
    "import pymysql\n",
    "import openpyxl\n",
    "\n",
    "train_file = 'C:/chatbot/train_tools/qna/train_data.xlsx'\n",
    "# 학습 엑셀 불러오기\n",
    "wb = openpyxl.load_workbook(train_file)\n",
    "sheet = wb['Sheet1']\n",
    "for row in sheet.iter_rows(min_row=2):  # 2행부터 시작\n",
    "    # 데이터 저장\n",
    "    print(row)\n",
    "    intent, ner, query, answer, answer_img_url = row\n",
    "    print(intent.value, ner.value, query.value, answer.value, \n",
    "          answer.value, answer_img_url.value, sep='|')\n",
    "    print(\"-\"*80)\n",
    "wb.close()"
   ]
  },
  {
   "cell_type": "code",
   "execution_count": null,
   "id": "283bcf1a",
   "metadata": {},
   "outputs": [],
   "source": []
  }
 ],
 "metadata": {
  "kernelspec": {
   "display_name": "Python 3 (ipykernel)",
   "language": "python",
   "name": "python3"
  },
  "language_info": {
   "codemirror_mode": {
    "name": "ipython",
    "version": 3
   },
   "file_extension": ".py",
   "mimetype": "text/x-python",
   "name": "python",
   "nbconvert_exporter": "python",
   "pygments_lexer": "ipython3",
   "version": "3.8.13"
  }
 },
 "nbformat": 4,
 "nbformat_minor": 5
}
