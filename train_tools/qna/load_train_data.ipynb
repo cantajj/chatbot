{
 "cells": [
  {
   "cell_type": "code",
   "execution_count": 1,
   "id": "80a21a3c",
   "metadata": {},
   "outputs": [],
   "source": [
    "#####################################################\n",
    "# <실습5>\n",
    "# 예제7-9 챗봇 학습 데이터 불러오기 (엑셀에서 db로)\n",
    "# /train_tools/qna/load_train_data.py\n",
    "#####################################################\n",
    "import sys\n",
    "sys.path.append('C:/chatbot')"
   ]
  },
  {
   "cell_type": "code",
   "execution_count": 2,
   "id": "909da007",
   "metadata": {},
   "outputs": [],
   "source": [
    "import pymysql\n",
    "import openpyxl\n",
    "\n",
    "from config.DatabaseConfig import *   # DB접속 정보 불러오기"
   ]
  },
  {
   "cell_type": "code",
   "execution_count": 18,
   "id": "ead366af",
   "metadata": {},
   "outputs": [],
   "source": [
    "## DB 학습데이터 모두 삭제 (초기화)\n",
    "def all_clear_train_data(db):\n",
    "    # 기존 데이터 삭제\n",
    "    sql = '''\n",
    "            DELETE FROM chatbot_train_data    \n",
    "    '''\n",
    "    with db.cursor() as cursor:\n",
    "        cursor.execute(sql)\n",
    "        \n",
    "# DB에 데이터 저장\n",
    "def insert_data(db, xls_row):\n",
    "    intent, ner, query, answer, answer_image = xls_row\n",
    "    \n",
    "    sql = '''\n",
    "        INSERT chatbot_train_data (\n",
    "                intent, ner, query, answer, answer_image)\n",
    "        VALUES ('%s', '%s', '%s', '%s', '%s')\n",
    "    ''' % (intent.value, ner.value, query.value, \n",
    "                           answer.value, answer_image.value)\n",
    "    \n",
    "    # 엑셀에서 불러온 cell에 데이터가 없는 경우 null로 치환 (엑셀과 DB의 차이)\n",
    "    sql = sql.replace(\"'None'\", \"null\")\n",
    "    print(sql)\n",
    "\n",
    "    with db.cursor() as cursor:\n",
    "        cursor.execute(sql)\n",
    "        print('{} 저장'.format(query.value))\n",
    "        db.commit()\n",
    "    print('-'*80)    \n",
    "    "
   ]
  },
  {
   "cell_type": "code",
   "execution_count": 19,
   "id": "b3f39e2c",
   "metadata": {},
   "outputs": [
    {
     "name": "stdout",
     "output_type": "stream",
     "text": [
      "(<Cell 'Sheet1'.A2>, <Cell 'Sheet1'.B2>, <Cell 'Sheet1'.C2>, <Cell 'Sheet1'.D2>, <Cell 'Sheet1'.E2>)\n",
      "(<Cell 'Sheet1'.A3>, <Cell 'Sheet1'.B3>, <Cell 'Sheet1'.C3>, <Cell 'Sheet1'.D3>, <Cell 'Sheet1'.E3>)\n",
      "(<Cell 'Sheet1'.A4>, <Cell 'Sheet1'.B4>, <Cell 'Sheet1'.C4>, <Cell 'Sheet1'.D4>, <Cell 'Sheet1'.E4>)\n",
      "(<Cell 'Sheet1'.A5>, <Cell 'Sheet1'.B5>, <Cell 'Sheet1'.C5>, <Cell 'Sheet1'.D5>, <Cell 'Sheet1'.E5>)\n",
      "(<Cell 'Sheet1'.A6>, <Cell 'Sheet1'.B6>, <Cell 'Sheet1'.C6>, <Cell 'Sheet1'.D6>, <Cell 'Sheet1'.E6>)\n",
      "(<Cell 'Sheet1'.A7>, <Cell 'Sheet1'.B7>, <Cell 'Sheet1'.C7>, <Cell 'Sheet1'.D7>, <Cell 'Sheet1'.E7>)\n"
     ]
    }
   ],
   "source": [
    "# [참고:엑셀] 학습용 엑셀 파일 읽어오기\n",
    "train_file = './train_data.xlsx'\n",
    "wb = openpyxl.load_workbook(train_file)\n",
    "sheet = wb['Sheet1']\n",
    "for row in sheet.iter_rows(min_row=2): # 1:헤더 skip, 최소 2에서 시작\n",
    "    print(row)"
   ]
  },
  {
   "cell_type": "code",
   "execution_count": 20,
   "id": "43d2fad8",
   "metadata": {},
   "outputs": [
    {
     "data": {
      "text/plain": [
       "'욕하면 나빠요 ㅠ'"
      ]
     },
     "execution_count": 20,
     "metadata": {},
     "output_type": "execute_result"
    }
   ],
   "source": [
    "row[3].value"
   ]
  },
  {
   "cell_type": "code",
   "execution_count": 21,
   "id": "2419610a",
   "metadata": {
    "scrolled": true
   },
   "outputs": [
    {
     "name": "stdout",
     "output_type": "stream",
     "text": [
      "\n",
      "        INSERT chatbot_train_data (\n",
      "                intent, ner, query, answer, answer_image)\n",
      "        VALUES ('인사', null, '안녕하세요', '네 안녕하세요 :D\n",
      "반갑습니다. 저는 챗봇입니다.', 'https://i.imgur.com/UluUFMp.jpg')\n",
      "    \n",
      "안녕하세요 저장\n",
      "--------------------------------------------------------------------------------\n",
      "\n",
      "        INSERT chatbot_train_data (\n",
      "                intent, ner, query, answer, answer_image)\n",
      "        VALUES ('인사', null, '반가워요', '네 안녕하세요 :D\n",
      "반갑습니다. 저는 챗봇입니다.', 'https://i.imgur.com/UluUFMp.jpg')\n",
      "    \n",
      "반가워요 저장\n",
      "--------------------------------------------------------------------------------\n",
      "\n",
      "        INSERT chatbot_train_data (\n",
      "                intent, ner, query, answer, answer_image)\n",
      "        VALUES ('주문', 'B_FOOD', '{B_FOOD} 주문할게요', '{B_FOOD} 주문 처리 완료되었습니다. \n",
      "주문해주셔서 감사합니다.', null)\n",
      "    \n",
      "{B_FOOD} 주문할게요 저장\n",
      "--------------------------------------------------------------------------------\n",
      "\n",
      "        INSERT chatbot_train_data (\n",
      "                intent, ner, query, answer, answer_image)\n",
      "        VALUES ('주문', 'B_FOOD', '{B_FOOD} 주문할게요', '{B_FOOD} 주문 처리 감사!!', null)\n",
      "    \n",
      "{B_FOOD} 주문할게요 저장\n",
      "--------------------------------------------------------------------------------\n",
      "\n",
      "        INSERT chatbot_train_data (\n",
      "                intent, ner, query, answer, answer_image)\n",
      "        VALUES ('예약', 'B_DT,B_TI', '{B_DT} 예약', '{B_DT}에 예약 접수 되었습니다.', null)\n",
      "    \n",
      "{B_DT} 예약 저장\n",
      "--------------------------------------------------------------------------------\n",
      "\n",
      "        INSERT chatbot_train_data (\n",
      "                intent, ner, query, answer, answer_image)\n",
      "        VALUES ('욕설', null, null, '욕하면 나빠요 ㅠ', null)\n",
      "    \n",
      "None 저장\n",
      "--------------------------------------------------------------------------------\n"
     ]
    }
   ],
   "source": [
    "db = None\n",
    "\n",
    "try:\n",
    "    db = pymysql.connect(\n",
    "        host = DB_HOST,\n",
    "        user = DB_USER,\n",
    "        passwd = DB_PASSWORD,\n",
    "        db = DB_NAME,\n",
    "        charset = 'utf8'\n",
    "    )\n",
    "    \n",
    "    # 기존 DB의 테이블 내용 삭제 (초기화)\n",
    "    all_clear_train_data(db)\n",
    "    \n",
    "    # 학습용 엑셀 파일 불러와서 DB에 Insert하기\n",
    "    train_file = './train_data.xlsx'\n",
    "    wb = openpyxl.load_workbook(train_file)\n",
    "    sheet = wb['Sheet1']\n",
    "    for row in sheet.iter_rows(min_row=2): # 1:헤더 skip, 최소 2에서 시작\n",
    "        insert_data(db, row)\n",
    "        \n",
    "    wb.close()\n",
    "\n",
    "except Exception as e:\n",
    "    print(e)\n",
    "        \n",
    "finally:\n",
    "    if db is not None:\n",
    "        db.close()"
   ]
  },
  {
   "cell_type": "code",
   "execution_count": null,
   "id": "187b1b90",
   "metadata": {},
   "outputs": [],
   "source": []
  },
  {
   "cell_type": "code",
   "execution_count": null,
   "id": "44926d55",
   "metadata": {},
   "outputs": [],
   "source": []
  }
 ],
 "metadata": {
  "kernelspec": {
   "display_name": "Python 3 (ipykernel)",
   "language": "python",
   "name": "python3"
  },
  "language_info": {
   "codemirror_mode": {
    "name": "ipython",
    "version": 3
   },
   "file_extension": ".py",
   "mimetype": "text/x-python",
   "name": "python",
   "nbconvert_exporter": "python",
   "pygments_lexer": "ipython3",
   "version": "3.8.13"
  }
 },
 "nbformat": 4,
 "nbformat_minor": 5
}
