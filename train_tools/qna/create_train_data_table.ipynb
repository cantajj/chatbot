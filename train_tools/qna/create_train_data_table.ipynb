{
 "cells": [
  {
   "cell_type": "code",
   "execution_count": 5,
   "id": "b51cf932",
   "metadata": {},
   "outputs": [],
   "source": [
    "####################################################################################################\n",
    "# <실습3>  예제7-8 챗봇 데이터 테이블 생성\n",
    "# 챗봇 데이터 학습용 테이블을 생성(CREATE)하는 코드 : /train_tools/qna/create_train_data_table.ipynb\n",
    "# 생성하는 Table : chatbot_train_data table (chatbot 데이터베이스)\n",
    "# 사용 모듈 : from config.DatabaseConfig import * # DB 접속 정보 불러오기\n",
    "# 한번만 실행하면 되는 코드\n",
    "####################################################################################################\n",
    "import sys\n",
    "sys.path.append('c:/chatbot')"
   ]
  },
  {
   "cell_type": "code",
   "execution_count": 6,
   "id": "e6462965",
   "metadata": {},
   "outputs": [],
   "source": [
    "import pymysql\n",
    "from config.DatabaseConfig import *  # DB접속 정보 가져오기\n",
    "\n",
    "## db 접속하기\n",
    "db = None\n",
    "\n",
    "try:\n",
    "    db = pymysql.connect(\n",
    "        host=DB_HOST,\n",
    "        user=DB_USER,\n",
    "        password=DB_PASSWORD,\n",
    "        db='chatbot',\n",
    "        charset='utf8'\n",
    "    )\n",
    "    \n",
    "    ## table 생성 sql 정의\n",
    "    sql = '''\n",
    "            CREATE TABLE IF NOT EXISTS `chatbot_train_data` (\n",
    "                id INT UNSIGNED NOT NULL AUTO_INCREMENT,\n",
    "                intent VARCHAR(45) NULL, \n",
    "                ner VARCHAR(1024) NULL,\n",
    "                query TEXT NULL,\n",
    "                answer TEXT NOT NULL,\n",
    "                answer_image VARCHAR(2048) NULL,\n",
    "            PRIMARY KEY (`id`))\n",
    "            ENGINE = InnoDB DEFAULT CHARSET=utf8\n",
    "    '''\n",
    "    # 커서 생성 \n",
    "    with db.cursor() as cursor:\n",
    "        cursor.execute(sql)\n",
    "\n",
    "    print(\"### chatbot_train_data 테이블 생성 완료!!!\")\n",
    "    \n",
    "except Exception as e:\n",
    "    print(e)\n",
    "finally:\n",
    "    if db is not None:\n",
    "        db.close()"
   ]
  },
  {
   "cell_type": "code",
   "execution_count": null,
   "id": "7ef10058",
   "metadata": {},
   "outputs": [],
   "source": []
  }
 ],
 "metadata": {
  "kernelspec": {
   "display_name": "Python 3 (ipykernel)",
   "language": "python",
   "name": "python3"
  },
  "language_info": {
   "codemirror_mode": {
    "name": "ipython",
    "version": 3
   },
   "file_extension": ".py",
   "mimetype": "text/x-python",
   "name": "python",
   "nbconvert_exporter": "python",
   "pygments_lexer": "ipython3",
   "version": "3.8.13"
  }
 },
 "nbformat": 4,
 "nbformat_minor": 5
}
